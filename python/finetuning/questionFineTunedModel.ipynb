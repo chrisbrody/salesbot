{
 "cells": [
  {
   "cell_type": "markdown",
   "metadata": {},
   "source": [
    "# Load requirements"
   ]
  },
  {
   "cell_type": "code",
   "execution_count": null,
   "metadata": {},
   "outputs": [],
   "source": [
    "!pip install openai python-dotenv"
   ]
  },
  {
   "cell_type": "markdown",
   "metadata": {},
   "source": [
    "# Import requirements"
   ]
  },
  {
   "cell_type": "code",
   "execution_count": 9,
   "metadata": {},
   "outputs": [],
   "source": [
    "import os\n",
    "import openai\n",
    "from dotenv import load_dotenv\n",
    "\n",
    "# Load environment variables from the .env file\n",
    "load_dotenv()\n",
    "openai.api_key = os.getenv(\"OPENAI_APIKEY\")"
   ]
  },
  {
   "cell_type": "markdown",
   "metadata": {},
   "source": [
    "# Define test message"
   ]
  },
  {
   "cell_type": "code",
   "execution_count": 10,
   "metadata": {},
   "outputs": [
    {
     "name": "stdout",
     "output_type": "stream",
     "text": [
      "[{'role': 'system', 'content': 'Given an English puzzle-like reasoning question, provide a well-reasoned, step-by-step response in Spanish.'}, {'role': 'user', 'content': 'A group of 4 friends went to a restaurant. They decided to split the bill equally. If the total bill was $200, how much does each person have to pay?'}]\n"
     ]
    }
   ],
   "source": [
    "# Define the system message\n",
    "system_message = \"Given an English puzzle-like reasoning question, provide a well-reasoned, step-by-step response in Spanish.\"\n",
    "\n",
    "test_message = []\n",
    "test_message.append({\"role\": \"system\", \"content\":system_message})\n",
    "user_message = \"A group of 4 friends went to a restaurant. They decided to split the bill equally. If the total bill was $200, how much does each person have to pay?\"\n",
    "test_message.append({\"role\":\"user\", \"content\": user_message})\n",
    "\n",
    "print(test_message)"
   ]
  },
  {
   "cell_type": "markdown",
   "metadata": {},
   "source": [
    "# Query fine tuned model"
   ]
  },
  {
   "cell_type": "code",
   "execution_count": 6,
   "metadata": {},
   "outputs": [
    {
     "name": "stdout",
     "output_type": "stream",
     "text": [
      "Para resolver este problema, necesitamos dividir el total de la factura entre el número de amigos.\n",
      "\n",
      "En este caso, la factura total es de $200 y el número de amigos es 4.\n",
      "\n",
      "Por lo tanto, cada persona tendría que pagar $200 dividido entre 4, que es $50.\n",
      "\n",
      "Así que, cada amigo tendría que pagar $50.\n"
     ]
    }
   ],
   "source": [
    "response = openai.ChatCompletion.create(\n",
    "    model = \"ft:gpt-3.5-turbo-0613:personal::8CrL8fGm\",\n",
    "    messages = test_message,\n",
    "    temperature= 1,\n",
    "    max_tokens= 500\n",
    ")\n",
    "print(response['choices'][0]['message']['content'])"
   ]
  }
 ],
 "metadata": {
  "kernelspec": {
   "display_name": "Python 3",
   "language": "python",
   "name": "python3"
  },
  "language_info": {
   "codemirror_mode": {
    "name": "ipython",
    "version": 3
   },
   "file_extension": ".py",
   "mimetype": "text/x-python",
   "name": "python",
   "nbconvert_exporter": "python",
   "pygments_lexer": "ipython3",
   "version": "3.11.0"
  }
 },
 "nbformat": 4,
 "nbformat_minor": 2
}
